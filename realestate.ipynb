{
 "cells": [
  {
   "cell_type": "code",
   "execution_count": 102,
   "metadata": {},
   "outputs": [],
   "source": [
    "import pandas as pd\n",
    "import numpy as np\n",
    "from sklearn.impute import SimpleImputer\n",
    "from sklearn.preprocessing import StandardScaler, OneHotEncoder, OrdinalEncoder\n",
    "from sklearn.compose import ColumnTransformer\n",
    "from sklearn.pipeline import Pipeline\n",
    "from sklearn.decomposition import PCA\n",
    "from sklearn.ensemble import RandomForestRegressor\n",
    "from sklearn.model_selection import train_test_split\n",
    "from sklearn.metrics import r2_score, mean_squared_error\n",
    "from sklearn.base import BaseEstimator, TransformerMixin\n",
    "from sklearn.pipeline import FunctionTransformer\n"
   ]
  },
  {
   "cell_type": "code",
   "execution_count": 103,
   "metadata": {},
   "outputs": [
    {
     "name": "stderr",
     "output_type": "stream",
     "text": [
      "C:\\Users\\PMYLS\\AppData\\Local\\Temp\\ipykernel_15796\\2719441142.py:2: DtypeWarning: Columns (6,8,12,13,14,15,16,20) have mixed types. Specify dtype option on import or set low_memory=False.\n",
      "  df = pd.read_csv('portugal_listinigs2.csv')\n"
     ]
    }
   ],
   "source": [
    "# Load dataset\n",
    "df = pd.read_csv('portugal_listinigs2.csv')\n",
    "\n",
    "# Target variable\n",
    "y = df['Price']\n",
    "X = df.drop(columns=['Price'])\n",
    "\n",
    "# Split the dataset\n",
    "X_train, X_test, y_train, y_test = train_test_split(X, y, test_size=0.2, random_state=42)\n"
   ]
  },
  {
   "cell_type": "markdown",
   "metadata": {},
   "source": [
    "Missing Values"
   ]
  },
  {
   "cell_type": "code",
   "execution_count": 104,
   "metadata": {},
   "outputs": [],
   "source": [
    "def handle_missing_values(X, y=None):\n",
    "    \"\"\"Handles missing values and ensures y_train is updated when rows are dropped.\"\"\"\n",
    "\n",
    "    # Drop columns with > 58% missing values\n",
    "    cols_to_drop = ['Floor', 'GrossArea', 'PublishDate', 'NumberOfBedrooms', 'NumberOfWC', \n",
    "                    'ConservationStatus', 'LotSize', 'BuiltArea']\n",
    "    X = X.drop(columns=[col for col in cols_to_drop if col in X.columns], errors='ignore')\n",
    "\n",
    "    # Fill missing ConstructionYear with random values (1960-2025)\n",
    "    if 'ConstructionYear' in X.columns:\n",
    "        X.loc[X['ConstructionYear'].isna(), 'ConstructionYear'] = np.random.randint(1960, 2025, X['ConstructionYear'].isna().sum())\n",
    "\n",
    "    # Fill numerical missing values with median\n",
    "    num_cols = ['LivingArea', 'TotalRooms', 'TotalArea', 'NumberOfBathrooms', 'Parking']\n",
    "    for col in num_cols:\n",
    "        if col in X.columns:\n",
    "            X[col] = X[col].fillna(X[col].median())\n",
    "\n",
    "    # Fill categorical missing values with 'Missing'\n",
    "    cat_cols = ['EnergyEfficiencyLevel', 'Garage', 'ElectricCarsCharging', 'Town', 'Type', 'EnergyCertificate']\n",
    "    for col in cat_cols:\n",
    "        if col in X.columns:\n",
    "            X[col] = X[col].fillna('Missing')\n",
    "\n",
    "    # Ensure y_train matches X_train\n",
    "    if y is not None:\n",
    "        valid_rows = X.notnull().all(axis=1)\n",
    "        X = X.loc[valid_rows]\n",
    "        y = y.loc[valid_rows]\n",
    "        return X, y\n",
    "\n",
    "    return X\n"
   ]
  },
  {
   "cell_type": "markdown",
   "metadata": {},
   "source": [
    "Feature Selection"
   ]
  },
  {
   "cell_type": "code",
   "execution_count": 105,
   "metadata": {},
   "outputs": [],
   "source": [
    "def feature_selection(X, y=None):\n",
    "    \"\"\"Removes unwanted features and ensures y_train stays in sync.\"\"\"\n",
    "    if 'HasParking' in X.columns:\n",
    "        X = X.drop(columns=['HasParking'], errors='ignore')\n",
    "\n",
    "    # Drop rows where <10% of values are missing\n",
    "    threshold = 0.10 * len(X)\n",
    "    missing_counts = X.isnull().sum()\n",
    "    cols_to_drop_rows = missing_counts[missing_counts <= threshold].index\n",
    "    X = X.dropna(subset=cols_to_drop_rows)\n",
    "\n",
    "    if y is not None:\n",
    "        y = y.loc[X.index]  # Ensure y_train matches X_train\n",
    "        return X, y\n",
    "\n",
    "    return X\n"
   ]
  },
  {
   "cell_type": "markdown",
   "metadata": {},
   "source": [
    "Outliers Handling"
   ]
  },
  {
   "cell_type": "code",
   "execution_count": 106,
   "metadata": {},
   "outputs": [],
   "source": [
    "def handle_outliers(X, y=None):\n",
    "    \"\"\"Caps extreme values for numerical columns and ensures y_train stays in sync.\"\"\"\n",
    "    outlier_bounds = {\n",
    "        'NumberOfBathrooms': (1, 15),\n",
    "        'TotalRooms': (1, 25),\n",
    "        'LivingArea': (0, 312),\n",
    "        'TotalArea': (0, 1072),\n",
    "        'ConstructionYear': (1900, 2025)\n",
    "    }\n",
    "\n",
    "    for col, (lower, upper) in outlier_bounds.items():\n",
    "        if col in X.columns:\n",
    "            X[col] = X[col].clip(lower=lower, upper=upper)\n",
    "\n",
    "    if y is not None:\n",
    "        y = y.loc[X.index]\n",
    "        return X, y\n",
    "    return X\n"
   ]
  },
  {
   "cell_type": "markdown",
   "metadata": {},
   "source": [
    "Encode Categorical Features"
   ]
  },
  {
   "cell_type": "code",
   "execution_count": 107,
   "metadata": {},
   "outputs": [],
   "source": [
    "class FeatureEncoder(BaseEstimator, TransformerMixin):\n",
    "    \"\"\"Encodes categorical features with One-Hot and Ordinal Encoding.\"\"\"\n",
    "    \n",
    "    def __init__(self):\n",
    "        self.encoder = None\n",
    "        self.feature_names = None\n",
    "\n",
    "    def fit(self, X, y=None):\n",
    "        self.nominal = ['District', 'City', 'Town', 'Type', 'Garage', 'Elevator', 'ElectricCarsCharging']\n",
    "        self.ordinal = ['EnergyCertificate', 'EnergyEfficiencyLevel']\n",
    "\n",
    "        self.encoder = ColumnTransformer([\n",
    "            ('onehot', OneHotEncoder(handle_unknown='ignore', sparse_output=False), self.nominal),\n",
    "            ('ordinal', OrdinalEncoder(handle_unknown='use_encoded_value', unknown_value=-1), self.ordinal)\n",
    "        ])\n",
    "\n",
    "        self.encoder.fit(X)\n",
    "\n",
    "        # Store feature names\n",
    "        self.feature_names = self.encoder.get_feature_names_out()\n",
    "\n",
    "        return self\n",
    "\n",
    "    def transform(self, X):\n",
    "        X_transformed = self.encoder.transform(X)\n",
    "        return pd.DataFrame(X_transformed, columns=self.feature_names, index=X.index)\n"
   ]
  },
  {
   "cell_type": "markdown",
   "metadata": {},
   "source": [
    "Pipeline"
   ]
  },
  {
   "cell_type": "code",
   "execution_count": 108,
   "metadata": {},
   "outputs": [],
   "source": [
    "full_pipeline = Pipeline([\n",
    "    ('missing_values', FunctionTransformer(handle_missing_values, validate=False)),\n",
    "    ('feature_selection', FunctionTransformer(feature_selection, validate=False)),\n",
    "    ('outlier_handling', FunctionTransformer(handle_outliers, validate=False)),\n",
    "    ('encoding', FeatureEncoder()),\n",
    "    ('scaler', StandardScaler(with_mean=False)),  \n",
    "    ('pca', PCA(n_components=0.95))\n",
    "])\n"
   ]
  },
  {
   "cell_type": "code",
   "execution_count": 109,
   "metadata": {},
   "outputs": [],
   "source": [
    "X_train, y_train = handle_missing_values(X_train, y_train)\n",
    "X_train, y_train = feature_selection(X_train, y_train)\n",
    "X_train, y_train = handle_outliers(X_train, y_train)\n",
    "\n",
    "X_train_transformed = full_pipeline.fit_transform(X_train, y_train)\n",
    "X_test_transformed = full_pipeline.transform(X_test)\n"
   ]
  }
 ],
 "metadata": {
  "kernelspec": {
   "display_name": "Python 3",
   "language": "python",
   "name": "python3"
  },
  "language_info": {
   "codemirror_mode": {
    "name": "ipython",
    "version": 3
   },
   "file_extension": ".py",
   "mimetype": "text/x-python",
   "name": "python",
   "nbconvert_exporter": "python",
   "pygments_lexer": "ipython3",
   "version": "3.12.7"
  }
 },
 "nbformat": 4,
 "nbformat_minor": 2
}
